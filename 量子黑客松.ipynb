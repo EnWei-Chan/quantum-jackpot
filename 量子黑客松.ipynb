{
 "cells": [
  {
   "cell_type": "markdown",
   "id": "8241d2c2",
   "metadata": {},
   "source": [
    "導入qiskit(安裝時用 pip install qiskit)"
   ]
  },
  {
   "cell_type": "code",
   "execution_count": null,
   "id": "36cc8ab1",
   "metadata": {},
   "outputs": [],
   "source": [
    "from qiskit import*"
   ]
  },
  {
   "cell_type": "markdown",
   "id": "d536b94c",
   "metadata": {},
   "source": [
    "設定位元參數"
   ]
  },
  {
   "cell_type": "code",
   "execution_count": null,
   "id": "0889502f",
   "metadata": {},
   "outputs": [],
   "source": [
    "qr=QuantumRegister(2)\n",
    "cr=ClassicalRegister(2)\n",
    "qc=QuantumCircuit(qr,cr)"
   ]
  },
  {
   "cell_type": "markdown",
   "id": "939a0197",
   "metadata": {},
   "source": [
    "# 實作"
   ]
  },
  {
   "cell_type": "markdown",
   "id": "e0a221df",
   "metadata": {},
   "source": [
    "疊加態"
   ]
  },
  {
   "cell_type": "code",
   "execution_count": null,
   "id": "49b402bf",
   "metadata": {},
   "outputs": [],
   "source": [
    "qc=QuantumCircuit(2)\n",
    "qc.h(0)\n",
    "qc.h(1)\n",
    "qc.draw()"
   ]
  },
  {
   "cell_type": "markdown",
   "id": "618fde2d",
   "metadata": {},
   "source": [
    "糾纏態"
   ]
  },
  {
   "cell_type": "code",
   "execution_count": null,
   "id": "7a7b2803",
   "metadata": {},
   "outputs": [],
   "source": [
    "qc=QuantumCircuit(2)\n",
    "qc.h(0)\n",
    "qc.h(1)\n",
    "qc.cx(0,1)\n",
    "qc.draw()"
   ]
  },
  {
   "cell_type": "markdown",
   "id": "72150536",
   "metadata": {},
   "source": [
    "And"
   ]
  },
  {
   "cell_type": "code",
   "execution_count": null,
   "id": "728d650d",
   "metadata": {},
   "outputs": [],
   "source": [
    "qc=QuantumCircuit(3)\n",
    "qc.ccx(0,1,2)\n",
    "qc.draw()"
   ]
  },
  {
   "cell_type": "markdown",
   "id": "e0f04092",
   "metadata": {},
   "source": [
    "Or"
   ]
  },
  {
   "cell_type": "code",
   "execution_count": null,
   "id": "6584ae28",
   "metadata": {},
   "outputs": [],
   "source": [
    "qc=QuantumCircuit(3)\n",
    "qc.cx(0,1)\n",
    "qc.cx(0,2)\n",
    "qc.ccx(0,1,2)\n",
    "qc.draw()"
   ]
  },
  {
   "cell_type": "markdown",
   "id": "6f6b06e2",
   "metadata": {},
   "source": [
    "半加器"
   ]
  },
  {
   "cell_type": "code",
   "execution_count": null,
   "id": "6d93460c",
   "metadata": {},
   "outputs": [],
   "source": [
    "qc=QuantumCircuit(4)\n",
    "qc.cx(0,3)\n",
    "qc.cx(1,3)\n",
    "qc.ccx(0,1,2)\n",
    "qc.draw()"
   ]
  },
  {
   "cell_type": "markdown",
   "id": "f41823e6",
   "metadata": {},
   "source": [
    "全加器"
   ]
  },
  {
   "cell_type": "code",
   "execution_count": null,
   "id": "a3b0c2bc",
   "metadata": {
    "scrolled": true
   },
   "outputs": [],
   "source": [
    "qc=QuantumCircuit(8)\n",
    "qc.cx(0,4)\n",
    "qc.cx(1,4)\n",
    "qc.ccx(0,1,3)\n",
    "qc.barrier\n",
    "qc.cx(2,7)\n",
    "qc.cx(4,7)\n",
    "qc.ccx(2,4,5)\n",
    "qc.cx(5,6)\n",
    "qc.cx(3,6)\n",
    "qc.ccx(3,5,6)\n",
    "qc.draw()"
   ]
  },
  {
   "cell_type": "markdown",
   "id": "5ce6cb7b",
   "metadata": {},
   "source": [
    "隨機產生器模板"
   ]
  },
  {
   "cell_type": "code",
   "execution_count": null,
   "id": "816adefd",
   "metadata": {},
   "outputs": [],
   "source": [
    "from qiskit import QuantumRegister, ClassicalRegister, QuantumCircuit, execute,IBMQ\n",
    "from qiskit.tools.monitor import job_monitor\n",
    "\n",
    "IBMQ.enable_account('d85090f46a942315f65c45d713498b7a7d7595e14fd7ad6b199ead109fee512760d326db6ce87731df2a844e9b5fb2f47744f37ef3245e338f63ba329bc90254')\n",
    "provider = IBMQ.get_provider(hub='ibm-q')\n",
    "\n",
    "q = QuantumRegister(16,'q')\n",
    "c = ClassicalRegister(16,'c')\n",
    "circuit = QuantumCircuit(q,c)\n",
    "circuit.h(q) # Applies hadamard gate to all qubits\n",
    "circuit.measure(q,c) # Measures all qubits \n",
    "\n",
    "backend = provider.get_backend('ibmq_qasm_simulator')\n",
    "job = execute(circuit, backend, shots=1)\n",
    "                               \n",
    "print('Executing Job...\\n')                 \n",
    "job_monitor(job)\n",
    "counts = job.result().get_counts()\n",
    "\n",
    "print('RESULT: ',counts,'\\n')\n",
    "print('Press any key to close')\n",
    "input()"
   ]
  },
  {
   "cell_type": "markdown",
   "id": "d810e057",
   "metadata": {},
   "source": [
    "# 賭博遊戲"
   ]
  },
  {
   "cell_type": "code",
   "execution_count": 1,
   "id": "2e5c71bb",
   "metadata": {},
   "outputs": [],
   "source": [
    "from qiskit import QuantumRegister, ClassicalRegister, QuantumCircuit, execute,IBMQ,Aer\n",
    "from qiskit.tools.monitor import job_monitor\n",
    "import math"
   ]
  },
  {
   "cell_type": "markdown",
   "id": "49b4dc54",
   "metadata": {},
   "source": [
    "抽獎"
   ]
  },
  {
   "cell_type": "code",
   "execution_count": 10,
   "id": "d5c5e7b3",
   "metadata": {},
   "outputs": [],
   "source": [
    "def random_generator():\n",
    "    \n",
    "    from qiskit import QuantumRegister, ClassicalRegister, QuantumCircuit, execute,IBMQ,Aer\n",
    "    from qiskit.tools.monitor import job_monitor\n",
    "    import math\n",
    "    \n",
    "    q = QuantumRegister(16,'q')\n",
    "    c = ClassicalRegister(16,'c')\n",
    "    circuit = QuantumCircuit(q,c)\n",
    "    circuit.h(q) # Applies hadamard gate to all qubits\n",
    "    circuit.measure(q,c) # Measures all qubits \n",
    "\n",
    "    backend = Aer.get_backend('qasm_simulator')\n",
    "    job = execute(circuit, backend, shots=1)\n",
    "\n",
    "    # print('Executing Job...\\n')                 \n",
    "    # job_monitor(job)\n",
    "    counts = job.result().get_counts()\n",
    "\n",
    "    # print('RESULT: ',counts,'\\n')\n",
    "    \n",
    "    for i in counts.keys():\n",
    "        cnt = int(i, 2)\n",
    "    \n",
    "    before_theta = cnt * 2 / 65535 - 1\n",
    "\n",
    "    theta = math.acos(before_theta)\n",
    "    \n",
    "    return theta"
   ]
  },
  {
   "cell_type": "code",
   "execution_count": 11,
   "id": "34268c59",
   "metadata": {},
   "outputs": [],
   "source": [
    "def get_ball():\n",
    "    \n",
    "    box = [0,1,2,3,4,5,6,7,8,9]\n",
    "    number = []\n",
    "    remained_ball = 9\n",
    "    \n",
    "    for i in range(0,6):\n",
    "\n",
    "        q = QuantumRegister(6,'q')\n",
    "        c = ClassicalRegister(6,'c')\n",
    "        circuit = QuantumCircuit(q,c)\n",
    "        for i in range(0,6):\n",
    "            circuit.u3(random_generator(), 0, 0, i) # Applies u gate to all qubits\n",
    "        \n",
    "        circuit.measure(q,c) # Measures all qubits \n",
    "\n",
    "        from qiskit import Aer\n",
    "        backend = Aer.get_backend('qasm_simulator')\n",
    "        job = execute(circuit, backend, shots=1)\n",
    "\n",
    "        # print('Executing Job...\\n')                 \n",
    "        # job_monitor(job)\n",
    "        counts = job.result().get_counts()\n",
    "\n",
    "        # print('RESULT: ',counts,'\\n')\n",
    "\n",
    "        for i in counts.keys():\n",
    "            cnt = int(i, 2)\n",
    "\n",
    "        # print(cnt)\n",
    "\n",
    "        selected_ball = round(cnt * remained_ball / 63)\n",
    "        # print(selected_ball)\n",
    "\n",
    "        ball = box.pop(selected_ball)\n",
    "\n",
    "        # print(ball)\n",
    "\n",
    "        number.append(ball)\n",
    "\n",
    "        remained_ball -= 1\n",
    "        \n",
    "    return number"
   ]
  },
  {
   "cell_type": "code",
   "execution_count": 13,
   "id": "ac45abab-b205-483a-9357-1e64f6456c0b",
   "metadata": {
    "tags": []
   },
   "outputs": [
    {
     "name": "stderr",
     "output_type": "stream",
     "text": [
      "/usr/local/anaconda3/envs/env/lib/python3.6/site-packages/ipykernel_launcher.py:13: DeprecationWarning: The QuantumCircuit.u3 method is deprecated as of 0.16.0. It will be removed no earlier than 3 months after the release date. You should use QuantumCircuit.u instead, which acts identically. Alternatively, you can decompose u3 in terms of QuantumCircuit.p and QuantumCircuit.sx: u3(ϴ,φ,λ) = p(φ+π) sx p(ϴ+π) sx p(λ) (2 pulses on hardware).\n",
      "  del sys.path[0]\n"
     ]
    },
    {
     "name": "stdout",
     "output_type": "stream",
     "text": [
      "3\n",
      "4\n",
      "7\n",
      "0\n",
      "2\n",
      "6\n"
     ]
    }
   ],
   "source": [
    "number = get_ball()\n",
    "for i, ball in enumerate(number):\n",
    "    print(ball)"
   ]
  },
  {
   "cell_type": "markdown",
   "id": "14d353af",
   "metadata": {},
   "source": [
    "判斷"
   ]
  },
  {
   "cell_type": "code",
   "execution_count": null,
   "id": "4c1d26ea",
   "metadata": {},
   "outputs": [],
   "source": [
    "def check(number,input_number):\n",
    "    sum=0\n",
    "    prize=0\n",
    "\n",
    "    for i in range(0,6):\n",
    "      if(input_number[i]==number[i]):\n",
    "        sum+=1\n",
    "    if(sum==6):\n",
    "      prize=10000000\n",
    "    elif(sum==5):\n",
    "      prize=500000\n",
    "    elif(sum==4):\n",
    "      prize=40000\n",
    "    else:\n",
    "      sum=0\n",
    "      for i in range(6):\n",
    "        for j in range(6):\n",
    "          if(number[i]==input_number[j]):\n",
    "            sum+=1\n",
    "      if(sum==4):\n",
    "        prize=1000\n",
    "    return prize"
   ]
  },
  {
   "cell_type": "markdown",
   "id": "842b5e79",
   "metadata": {},
   "source": [
    "作弊"
   ]
  },
  {
   "cell_type": "code",
   "execution_count": null,
   "id": "766375fa",
   "metadata": {},
   "outputs": [],
   "source": [
    "def to_cheat(number,input_number,cheat_number)\n",
    "    input_number[cheat_number] = number[cheat_number]"
   ]
  },
  {
   "cell_type": "raw",
   "id": "e4a5cf3a-ebde-46f7-9b0c-6872061b9dae",
   "metadata": {},
   "source": [
    "嘗試"
   ]
  },
  {
   "cell_type": "code",
   "execution_count": 27,
   "id": "41e2f71b-9eb0-46e9-b39e-c8cc4ae99c7e",
   "metadata": {},
   "outputs": [],
   "source": [
    "def check(number,input_str):\n",
    "    sum=0\n",
    "    prize=0\n",
    "    for i in range(0,6):\n",
    "      if(int(input_str[i])==number[i]):\n",
    "        sum+=1\n",
    "    if(sum==6):\n",
    "      prize=10000000\n",
    "    elif(sum==5):\n",
    "      prize=500000\n",
    "    elif(sum==4):\n",
    "      prize=40000\n",
    "    else:\n",
    "      sum=0\n",
    "      for i in range(6):\n",
    "        for j in range(6):\n",
    "          if(number[i]==int(input_str[j])):\n",
    "            sum+=1\n",
    "      if(sum>=4):\n",
    "        prize=1000\n",
    "    return prize"
   ]
  },
  {
   "cell_type": "code",
   "execution_count": 28,
   "id": "14fcfadc-e635-432d-8285-583fbc8f0db9",
   "metadata": {},
   "outputs": [],
   "source": [
    "number = [0,1,2,3,4,5]\n",
    "input_str = \"543210\""
   ]
  },
  {
   "cell_type": "code",
   "execution_count": 29,
   "id": "c39611c1-335b-40b9-a700-d2804de8f576",
   "metadata": {},
   "outputs": [
    {
     "name": "stdout",
     "output_type": "stream",
     "text": [
      "1000\n"
     ]
    }
   ],
   "source": [
    "print(check(number,input_str))"
   ]
  }
 ],
 "metadata": {
  "kernelspec": {
   "display_name": "Python 3",
   "language": "python",
   "name": "python3"
  },
  "language_info": {
   "codemirror_mode": {
    "name": "ipython",
    "version": 3
   },
   "file_extension": ".py",
   "mimetype": "text/x-python",
   "name": "python",
   "nbconvert_exporter": "python",
   "pygments_lexer": "ipython3",
   "version": "3.6.13"
  }
 },
 "nbformat": 4,
 "nbformat_minor": 5
}
